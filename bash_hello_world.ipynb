{
 "cells": [
  {
   "cell_type": "markdown",
   "id": "1ffe7595-61b0-4588-b3f7-d56dcde3f858",
   "metadata": {},
   "source": [
    "My first Bash code"
   ]
  },
  {
   "cell_type": "code",
   "execution_count": 6,
   "id": "b7a702b5-6862-4d76-bd4d-e52055540350",
   "metadata": {
    "tags": []
   },
   "outputs": [
    {
     "name": "stdout",
     "output_type": "stream",
     "text": [
      "Hello World\n"
     ]
    }
   ],
   "source": [
    "!echo \"Hello World\""
   ]
  }
 ],
 "metadata": {
  "kernelspec": {
   "display_name": "Python 3 (ipykernel)",
   "language": "python",
   "name": "python3"
  },
  "language_info": {
   "codemirror_mode": {
    "name": "ipython",
    "version": 3
   },
   "file_extension": ".py",
   "mimetype": "text/x-python",
   "name": "python",
   "nbconvert_exporter": "python",
   "pygments_lexer": "ipython3",
   "version": "3.9.16"
  }
 },
 "nbformat": 4,
 "nbformat_minor": 5
}
